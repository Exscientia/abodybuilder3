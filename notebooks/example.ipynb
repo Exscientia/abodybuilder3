{
 "cells": [
  {
   "cell_type": "code",
   "execution_count": null,
   "metadata": {},
   "outputs": [],
   "source": [
    "%pip install py3dmol"
   ]
  },
  {
   "cell_type": "code",
   "execution_count": null,
   "metadata": {},
   "outputs": [],
   "source": [
    "from abodybuilder3.utils import string_to_input, output_to_pdb, add_atom37_to_output\n",
    "from abodybuilder3.lightning_module import LitABB3\n",
    "from abodybuilder3.language.model import ProtT5\n",
    "import py3Dmol\n",
    "import torch"
   ]
  },
  {
   "cell_type": "markdown",
   "metadata": {},
   "source": [
    "# ABodyBuilder3 Example\n",
    "\n",
    "We demonstrate our model using structure 6yio_H0-L0. The sequences are given below"
   ]
  },
  {
   "cell_type": "code",
   "execution_count": null,
   "metadata": {},
   "outputs": [],
   "source": [
    "heavy = \"QVQLVQSGAEVKKPGSSVKVSCKASGGTFSSLAISWVRQAPGQGLEWMGGIIPIFGTANYAQKFQGRVTITADESTSTAYMELSSLRSEDTAVYYCARGGSVSGTLVDFDIWGQGTMVTVSS\"\n",
    "light = \"DIQMTQSPSTLSASVGDRVTITCRASQSISSWLAWYQQKPGKAPKLLIYKASSLESGVPSRFSGSGSGTEFTLTISSLQPDDFATYYCQQYNIYPITFGGGTKVEIK\""
   ]
  },
  {
   "cell_type": "code",
   "execution_count": null,
   "metadata": {},
   "outputs": [],
   "source": [
    "module = LitABB3.load_from_checkpoint(\"../output/plddt-loss/best_second_stage.ckpt\")\n",
    "model = module.model    "
   ]
  },
  {
   "cell_type": "code",
   "execution_count": null,
   "metadata": {},
   "outputs": [],
   "source": [
    "ab_input = string_to_input(heavy=heavy, light=light)\n",
    "ab_input_batch = {\n",
    "    key: value.unsqueeze(0) for key, value in ab_input.items()\n",
    "} # add batch dim\n",
    "output = model(ab_input_batch, ab_input_batch[\"aatype\"])\n",
    "output = add_atom37_to_output(output, ab_input[\"aatype\"])\n",
    "pdb_string = output_to_pdb(output, ab_input)"
   ]
  },
  {
   "cell_type": "code",
   "execution_count": null,
   "metadata": {},
   "outputs": [],
   "source": [
    "view = py3Dmol.view()\n",
    "view.addModelsAsFrames(pdb_string, viewer=(0, 0))\n",
    "view.setStyle({'model': -1}, {'cartoon': {'color': 'spectrum'}}, viewer=(0, 0))\n",
    "view.zoomTo(viewer=(0, 0))\n",
    "view.render()"
   ]
  },
  {
   "cell_type": "markdown",
   "metadata": {},
   "source": [
    "# ABodyBuilder3-LM Example\n",
    "\n",
    "The T5 model is a large model that may not fit into memory. We give an option to use a\n",
    "pre-computed embedding (the `bash download.sh` script needs to be run first.)"
   ]
  },
  {
   "cell_type": "code",
   "execution_count": null,
   "metadata": {},
   "outputs": [],
   "source": [
    "module = LitABB3.load_from_checkpoint(\"../output/language-loss/best_second_stage.ckpt\")\n",
    "model = module.model    "
   ]
  },
  {
   "cell_type": "code",
   "execution_count": null,
   "metadata": {},
   "outputs": [],
   "source": [
    "use_precomputed=True\n",
    "\n",
    "if use_precomputed:\n",
    "    embedding = torch.load(\n",
    "        \"../data/structures/structures_plm/6yio_H0-L0.pt\"\n",
    "    )[\"plm_embedding\"]\n",
    "else:\n",
    "    plm = ProtT5()\n",
    "    embedding = plm.get_embeddings(\n",
    "        [heavy,],\n",
    "        [light,]\n",
    "    )\n",
    "\n",
    "print(f\"{embedding.shape=}\")"
   ]
  },
  {
   "cell_type": "code",
   "execution_count": null,
   "metadata": {},
   "outputs": [],
   "source": [
    "ab_input = string_to_input(heavy=heavy, light=light)\n",
    "ab_input[\"single\"] = embedding # use plm for residue feature\n",
    "ab_input_batch = {\n",
    "    key: value.unsqueeze(0) for key, value in ab_input.items()\n",
    "} # add batch dim\n",
    "output = model(ab_input_batch, ab_input_batch[\"aatype\"])\n",
    "output = add_atom37_to_output(output, ab_input[\"aatype\"])\n",
    "pdb_string = output_to_pdb(output, ab_input)"
   ]
  },
  {
   "cell_type": "code",
   "execution_count": null,
   "metadata": {},
   "outputs": [],
   "source": [
    "view = py3Dmol.view()\n",
    "view.addModelsAsFrames(pdb_string, viewer=(0, 0))\n",
    "view.setStyle({'model': -1}, {'cartoon': {'color': 'spectrum'}}, viewer=(0, 0))\n",
    "view.zoomTo(viewer=(0, 0))\n",
    "view.render()"
   ]
  }
 ],
 "metadata": {
  "kernelspec": {
   "display_name": "Python 3",
   "language": "python",
   "name": "python3"
  },
  "language_info": {
   "codemirror_mode": {
    "name": "ipython",
    "version": 3
   },
   "file_extension": ".py",
   "mimetype": "text/x-python",
   "name": "python",
   "nbconvert_exporter": "python",
   "pygments_lexer": "ipython3",
   "version": "3.9.18"
  }
 },
 "nbformat": 4,
 "nbformat_minor": 2
}
